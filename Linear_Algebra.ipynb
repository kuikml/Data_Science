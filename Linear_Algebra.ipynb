{
  "nbformat": 4,
  "nbformat_minor": 0,
  "metadata": {
    "colab": {
      "name": "Linear Algebra.ipynb",
      "provenance": [],
      "collapsed_sections": [],
      "authorship_tag": "ABX9TyM/YWHfsvfQm0ST9v+V1+D2",
      "include_colab_link": true
    },
    "kernelspec": {
      "name": "python3",
      "display_name": "Python 3"
    }
  },
  "cells": [
    {
      "cell_type": "markdown",
      "metadata": {
        "id": "view-in-github",
        "colab_type": "text"
      },
      "source": [
        "<a href=\"https://colab.research.google.com/github/kuikml/Data_Science/blob/master/Linear_Algebra.ipynb\" target=\"_parent\"><img src=\"https://colab.research.google.com/assets/colab-badge.svg\" alt=\"Open In Colab\"/></a>"
      ]
    },
    {
      "cell_type": "code",
      "metadata": {
        "id": "GFEB9MNwTGU7",
        "colab_type": "code",
        "colab": {}
      },
      "source": [
        "import numpy as np"
      ],
      "execution_count": 3,
      "outputs": []
    },
    {
      "cell_type": "markdown",
      "metadata": {
        "id": "y5_UUmQ_VnIX",
        "colab_type": "text"
      },
      "source": [
        "Norma wektora, dlugosc wektora w R2\n",
        "\n",
        "v = |x, y|\n",
        "\n",
        "||v|| = √( x2 + y2 )"
      ]
    },
    {
      "cell_type": "code",
      "metadata": {
        "id": "kLbBiE2pTJFT",
        "colab_type": "code",
        "colab": {
          "base_uri": "https://localhost:8080/",
          "height": 35
        },
        "outputId": "d51404f0-1861-4690-eccf-e590c3643da0"
      },
      "source": [
        "v1 = np.array([0,4])\n",
        "v1 = /"
      ],
      "execution_count": null,
      "outputs": [
        {
          "output_type": "execute_result",
          "data": {
            "text/plain": [
              "array([0, 4])"
            ]
          },
          "metadata": {
            "tags": []
          },
          "execution_count": 3
        }
      ]
    },
    {
      "cell_type": "code",
      "metadata": {
        "id": "7N2kWmjiTMn4",
        "colab_type": "code",
        "colab": {
          "base_uri": "https://localhost:8080/",
          "height": 35
        },
        "outputId": "a651d4cc-071e-4716-9125-f4cd6bc0d465"
      },
      "source": [
        "np.linalg.norm(v1)"
      ],
      "execution_count": null,
      "outputs": [
        {
          "output_type": "execute_result",
          "data": {
            "text/plain": [
              "4.0"
            ]
          },
          "metadata": {
            "tags": []
          },
          "execution_count": 4
        }
      ]
    },
    {
      "cell_type": "markdown",
      "metadata": {
        "id": "SpgjMM4dWhQ7",
        "colab_type": "text"
      },
      "source": [
        "Norma Euklidesowa w Rn"
      ]
    },
    {
      "cell_type": "code",
      "metadata": {
        "id": "PH8gsosaWZvQ",
        "colab_type": "code",
        "colab": {
          "base_uri": "https://localhost:8080/",
          "height": 35
        },
        "outputId": "1e7985e5-ea7a-4973-bff5-70b58552d8ff"
      },
      "source": [
        "v2 = np.array([-10,10,13])\n",
        "np.linalg.norm(v2)"
      ],
      "execution_count": null,
      "outputs": [
        {
          "output_type": "execute_result",
          "data": {
            "text/plain": [
              "19.209372712298546"
            ]
          },
          "metadata": {
            "tags": []
          },
          "execution_count": 5
        }
      ]
    },
    {
      "cell_type": "markdown",
      "metadata": {
        "id": "Y8SN6jfvcY3a",
        "colab_type": "text"
      },
      "source": [
        "Odleglosc dwoch punktow na plaszczyznie"
      ]
    },
    {
      "cell_type": "code",
      "metadata": {
        "id": "YWL3-7Wa-qyB",
        "colab_type": "code",
        "colab": {
          "base_uri": "https://localhost:8080/",
          "height": 35
        },
        "outputId": "0ef49df3-ce24-40d0-e23c-b00a06567ac3"
      },
      "source": [
        "p = np.array([3, 0])\n",
        "q = np.array([0, 4])\n",
        "\n",
        "np.linalg.norm(p - q)"
      ],
      "execution_count": 4,
      "outputs": [
        {
          "output_type": "execute_result",
          "data": {
            "text/plain": [
              "5.0"
            ]
          },
          "metadata": {
            "tags": []
          },
          "execution_count": 4
        }
      ]
    },
    {
      "cell_type": "markdown",
      "metadata": {
        "id": "_RJYyPaqciPz",
        "colab_type": "text"
      },
      "source": [
        "Odleglosc dwoch punktow w przestrzeni Rn"
      ]
    },
    {
      "cell_type": "code",
      "metadata": {
        "id": "AjRjrOvETU4p",
        "colab_type": "code",
        "colab": {
          "base_uri": "https://localhost:8080/",
          "height": 35
        },
        "outputId": "c0f1f597-7154-42d5-ff0e-a97961a5ebce"
      },
      "source": [
        "p = np.array([3, 0, 1])\n",
        "q = np.array([0, 4, 2])\n",
        "np.linalg.norm(p - q)"
      ],
      "execution_count": 5,
      "outputs": [
        {
          "output_type": "execute_result",
          "data": {
            "text/plain": [
              "5.0990195135927845"
            ]
          },
          "metadata": {
            "tags": []
          },
          "execution_count": 5
        }
      ]
    },
    {
      "cell_type": "markdown",
      "metadata": {
        "id": "XWtLyAOg_NNl",
        "colab_type": "text"
      },
      "source": [
        "Multiplying matrices"
      ]
    },
    {
      "cell_type": "markdown",
      "metadata": {
        "id": "RhIUcgdK_yQW",
        "colab_type": "text"
      },
      "source": [
        "Aby móc pomnożyć dwie macierze liczba kolumn w lewej \n",
        "macierzy musi zgadzać się z liczbą wierszy w prawej macierzy"
      ]
    },
    {
      "cell_type": "code",
      "metadata": {
        "id": "MwN-HvX8_Zeo",
        "colab_type": "code",
        "colab": {
          "base_uri": "https://localhost:8080/",
          "height": 90
        },
        "outputId": "6abf1841-245a-473a-b74c-8cdd4b61e46b"
      },
      "source": [
        "x = np.array([[5, 3], [3, 9]])\n",
        "y = np.array([[1], [-1]])\n",
        "print(x)\n",
        "print(y)"
      ],
      "execution_count": 8,
      "outputs": [
        {
          "output_type": "stream",
          "text": [
            "[[5 3]\n",
            " [3 9]]\n",
            "[[ 1]\n",
            " [-1]]\n"
          ],
          "name": "stdout"
        }
      ]
    },
    {
      "cell_type": "code",
      "metadata": {
        "id": "Tt3cSfMf_wdR",
        "colab_type": "code",
        "colab": {
          "base_uri": "https://localhost:8080/",
          "height": 53
        },
        "outputId": "dc7bd8e4-fb04-444e-96b1-1e480bcc8a62"
      },
      "source": [
        "z = np.dot(x, y)\n",
        "z"
      ],
      "execution_count": 9,
      "outputs": [
        {
          "output_type": "execute_result",
          "data": {
            "text/plain": [
              "array([[ 2],\n",
              "       [-6]])"
            ]
          },
          "metadata": {
            "tags": []
          },
          "execution_count": 9
        }
      ]
    },
    {
      "cell_type": "code",
      "metadata": {
        "id": "wdn_Xwl4Awww",
        "colab_type": "code",
        "colab": {
          "base_uri": "https://localhost:8080/",
          "height": 53
        },
        "outputId": "dc86bffd-06e5-4fcf-ac66-f26a6d560d97"
      },
      "source": [
        "x = np.array([[2, -1, 3], [3, 1, 0]])\n",
        "y = np.array([[2, 1, -1], [0, -1, 2], [3, 2, 0]])\n",
        "z = np.dot(x, y)\n",
        "z"
      ],
      "execution_count": 13,
      "outputs": [
        {
          "output_type": "execute_result",
          "data": {
            "text/plain": [
              "array([[13,  9, -4],\n",
              "       [ 6,  2, -1]])"
            ]
          },
          "metadata": {
            "tags": []
          },
          "execution_count": 13
        }
      ]
    },
    {
      "cell_type": "markdown",
      "metadata": {
        "id": "dNm1CkRkIJwd",
        "colab_type": "text"
      },
      "source": [
        "Determinant of the matrix"
      ]
    },
    {
      "cell_type": "code",
      "metadata": {
        "id": "Vy1EU2qHBSG4",
        "colab_type": "code",
        "colab": {
          "base_uri": "https://localhost:8080/",
          "height": 35
        },
        "outputId": "6eb5e834-4c0d-44e4-878b-fb057e58bc05"
      },
      "source": [
        "a = np.array([[2, 4] , [-1, 3]])\n",
        "round(np.linalg.det(a))"
      ],
      "execution_count": 17,
      "outputs": [
        {
          "output_type": "execute_result",
          "data": {
            "text/plain": [
              "10.0"
            ]
          },
          "metadata": {
            "tags": []
          },
          "execution_count": 17
        }
      ]
    },
    {
      "cell_type": "markdown",
      "metadata": {
        "id": "okkQ2r2ZI47x",
        "colab_type": "text"
      },
      "source": [
        "Matrix trace"
      ]
    },
    {
      "cell_type": "code",
      "metadata": {
        "id": "UWVPfWkVIf2u",
        "colab_type": "code",
        "colab": {
          "base_uri": "https://localhost:8080/",
          "height": 35
        },
        "outputId": "a59c9bea-b426-4d0c-9f75-55dfe991e8a3"
      },
      "source": [
        "a = np.array([[2, 4] , [-1, 3]])\n",
        "np.trace(a)"
      ],
      "execution_count": 18,
      "outputs": [
        {
          "output_type": "execute_result",
          "data": {
            "text/plain": [
              "5"
            ]
          },
          "metadata": {
            "tags": []
          },
          "execution_count": 18
        }
      ]
    },
    {
      "cell_type": "markdown",
      "metadata": {
        "id": "cuLRNCkHJBK4",
        "colab_type": "text"
      },
      "source": [
        "Identity matrix"
      ]
    },
    {
      "cell_type": "code",
      "metadata": {
        "id": "WjPad5gzI8EC",
        "colab_type": "code",
        "colab": {
          "base_uri": "https://localhost:8080/",
          "height": 108
        },
        "outputId": "75efa6d3-3ef9-4b54-c369-cf60d5075d6c"
      },
      "source": [
        "np.eye(5, dtype='int')"
      ],
      "execution_count": 19,
      "outputs": [
        {
          "output_type": "execute_result",
          "data": {
            "text/plain": [
              "array([[1, 0, 0, 0, 0],\n",
              "       [0, 1, 0, 0, 0],\n",
              "       [0, 0, 1, 0, 0],\n",
              "       [0, 0, 0, 1, 0],\n",
              "       [0, 0, 0, 0, 1]])"
            ]
          },
          "metadata": {
            "tags": []
          },
          "execution_count": 19
        }
      ]
    },
    {
      "cell_type": "code",
      "metadata": {
        "id": "coI--VGUJS_6",
        "colab_type": "code",
        "colab": {
          "base_uri": "https://localhost:8080/",
          "height": 72
        },
        "outputId": "6fc87efd-f97f-457d-a1c9-b70124288c67"
      },
      "source": [
        "np.eye(3)"
      ],
      "execution_count": 20,
      "outputs": [
        {
          "output_type": "execute_result",
          "data": {
            "text/plain": [
              "array([[1., 0., 0.],\n",
              "       [0., 1., 0.],\n",
              "       [0., 0., 1.]])"
            ]
          },
          "metadata": {
            "tags": []
          },
          "execution_count": 20
        }
      ]
    },
    {
      "cell_type": "markdown",
      "metadata": {
        "id": "G5bbraigJadg",
        "colab_type": "text"
      },
      "source": [
        "Inverse matrix"
      ]
    },
    {
      "cell_type": "markdown",
      "metadata": {
        "id": "UW2Gh30DJhMk",
        "colab_type": "text"
      },
      "source": [
        "Macierz musi być kwadratowa, macierz A posiada macierz odwrotną gdy macierz B || AB = BA = I"
      ]
    },
    {
      "cell_type": "code",
      "metadata": {
        "id": "5Fql8evCJVwL",
        "colab_type": "code",
        "colab": {
          "base_uri": "https://localhost:8080/",
          "height": 53
        },
        "outputId": "c8487a81-8892-4fa3-bbc8-c465c61e0c2b"
      },
      "source": [
        "a = np.array([[2, 4] , [-1, 3]])\n",
        "b = np.linalg.inv(a)\n",
        "b"
      ],
      "execution_count": 24,
      "outputs": [
        {
          "output_type": "execute_result",
          "data": {
            "text/plain": [
              "array([[ 0.3, -0.4],\n",
              "       [ 0.1,  0.2]])"
            ]
          },
          "metadata": {
            "tags": []
          },
          "execution_count": 24
        }
      ]
    },
    {
      "cell_type": "code",
      "metadata": {
        "id": "SmoQXDTTJ0U2",
        "colab_type": "code",
        "colab": {
          "base_uri": "https://localhost:8080/",
          "height": 53
        },
        "outputId": "2f16c6b0-80ad-4a4e-def5-8218b1219dfb"
      },
      "source": [
        "np.linalg.inv(b)"
      ],
      "execution_count": 26,
      "outputs": [
        {
          "output_type": "execute_result",
          "data": {
            "text/plain": [
              "array([[ 2.,  4.],\n",
              "       [-1.,  3.]])"
            ]
          },
          "metadata": {
            "tags": []
          },
          "execution_count": 26
        }
      ]
    },
    {
      "cell_type": "code",
      "metadata": {
        "id": "7oVWocOOKNhm",
        "colab_type": "code",
        "colab": {
          "base_uri": "https://localhost:8080/",
          "height": 53
        },
        "outputId": "49bcf9f2-0efc-4dd0-a658-9dc7c0871cac"
      },
      "source": [
        "np.set_printoptions(precision=4, suppress=True)\n",
        "\n",
        "np.dot(a, b)"
      ],
      "execution_count": 29,
      "outputs": [
        {
          "output_type": "execute_result",
          "data": {
            "text/plain": [
              "array([[ 1., -0.],\n",
              "       [ 0.,  1.]])"
            ]
          },
          "metadata": {
            "tags": []
          },
          "execution_count": 29
        }
      ]
    },
    {
      "cell_type": "code",
      "metadata": {
        "id": "T-MZMzA2KjhI",
        "colab_type": "code",
        "colab": {
          "base_uri": "https://localhost:8080/",
          "height": 53
        },
        "outputId": "525c9880-229f-4d6e-a263-1bc67eec6647"
      },
      "source": [
        "np.dot(b, a)"
      ],
      "execution_count": 30,
      "outputs": [
        {
          "output_type": "execute_result",
          "data": {
            "text/plain": [
              "array([[ 1., -0.],\n",
              "       [ 0.,  1.]])"
            ]
          },
          "metadata": {
            "tags": []
          },
          "execution_count": 30
        }
      ]
    },
    {
      "cell_type": "markdown",
      "metadata": {
        "id": "_ZWA9kYXKC1r",
        "colab_type": "text"
      },
      "source": [
        "Transposed matrix"
      ]
    },
    {
      "cell_type": "markdown",
      "metadata": {
        "id": "DdxfBcSqKnD_",
        "colab_type": "text"
      },
      "source": [
        "Zamiana wierszy na kolumny i kolumny na wiersze"
      ]
    },
    {
      "cell_type": "code",
      "metadata": {
        "id": "UZj3-OjgJ_g2",
        "colab_type": "code",
        "colab": {
          "base_uri": "https://localhost:8080/",
          "height": 53
        },
        "outputId": "06b063d9-7211-4d61-878a-aaaab445c95d"
      },
      "source": [
        "np.transpose(a)"
      ],
      "execution_count": 31,
      "outputs": [
        {
          "output_type": "execute_result",
          "data": {
            "text/plain": [
              "array([[ 2, -1],\n",
              "       [ 4,  3]])"
            ]
          },
          "metadata": {
            "tags": []
          },
          "execution_count": 31
        }
      ]
    },
    {
      "cell_type": "code",
      "metadata": {
        "id": "7RIlAXnMKwE2",
        "colab_type": "code",
        "colab": {
          "base_uri": "https://localhost:8080/",
          "height": 53
        },
        "outputId": "6ee5a02d-0e73-46f8-dab6-f798ba29e0ea"
      },
      "source": [
        "a.T"
      ],
      "execution_count": 32,
      "outputs": [
        {
          "output_type": "execute_result",
          "data": {
            "text/plain": [
              "array([[ 2, -1],\n",
              "       [ 4,  3]])"
            ]
          },
          "metadata": {
            "tags": []
          },
          "execution_count": 32
        }
      ]
    },
    {
      "cell_type": "markdown",
      "metadata": {
        "id": "JOn5gWuiK8BB",
        "colab_type": "text"
      },
      "source": [
        "Rozwiązwywanie układów równań \n",
        "Sloving systems of equations"
      ]
    },
    {
      "cell_type": "markdown",
      "metadata": {
        "id": "B7ZzjDzaMZcf",
        "colab_type": "text"
      },
      "source": [
        "Jeśli macierz ukladu A jest macierzą kwadratową to oznaczalność układu jest równoważne jej odwracalności:\n",
        "AX = B    \n",
        "A-1AX = A-1B    \n",
        "X = A-1B\n",
        "Gdzie A-1 to macierz odwrotna"
      ]
    },
    {
      "cell_type": "code",
      "metadata": {
        "id": "zrFuyP1MK35z",
        "colab_type": "code",
        "colab": {
          "base_uri": "https://localhost:8080/",
          "height": 53
        },
        "outputId": "c0fb87a1-03da-487d-db56-f9bf6c9611e3"
      },
      "source": [
        "a = np.array([[2, 4],[1, -1]])\n",
        "a1 = np.linalg.inv(a)\n",
        "a1"
      ],
      "execution_count": 47,
      "outputs": [
        {
          "output_type": "execute_result",
          "data": {
            "text/plain": [
              "array([[ 0.1667,  0.6667],\n",
              "       [ 0.1667, -0.3333]])"
            ]
          },
          "metadata": {
            "tags": []
          },
          "execution_count": 47
        }
      ]
    },
    {
      "cell_type": "code",
      "metadata": {
        "id": "RukAeM09MXnd",
        "colab_type": "code",
        "colab": {
          "base_uri": "https://localhost:8080/",
          "height": 53
        },
        "outputId": "5e6a4445-d606-4689-9be8-26c2c8847807"
      },
      "source": [
        "b = np.array([[10], [-1]])\n",
        "np.dot(a1, b)"
      ],
      "execution_count": 46,
      "outputs": [
        {
          "output_type": "execute_result",
          "data": {
            "text/plain": [
              "array([[1.],\n",
              "       [2.]])"
            ]
          },
          "metadata": {
            "tags": []
          },
          "execution_count": 46
        }
      ]
    },
    {
      "cell_type": "code",
      "metadata": {
        "id": "o3zggcndOAbS",
        "colab_type": "code",
        "colab": {}
      },
      "source": [
        ""
      ],
      "execution_count": null,
      "outputs": []
    }
  ]
}